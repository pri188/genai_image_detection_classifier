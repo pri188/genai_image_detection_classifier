{
  "nbformat": 4,
  "nbformat_minor": 0,
  "metadata": {
    "colab": {
      "provenance": [],
      "toc_visible": true
    },
    "kernelspec": {
      "name": "python3",
      "display_name": "Python 3"
    },
    "language_info": {
      "name": "python"
    }
  },
  "cells": [
    {
      "cell_type": "markdown",
      "source": [
        "**Introduction**: In this approach, we will implement an\n",
        "supervised learning strategy to differentiate between GenAI-generated and real images. We will rely on labeled data, our method will leverage clustering and similarity measures to group Real and GenAI images.\n",
        "Approach: We will be treating this as a binary classification problem, where each image is assigend a indicationg Real and GenAI.\n",
        "We will begin with traditional machine Learning Model like Logistic Regression , SVM and Random Forest.\n",
        "Further I plan to work on Deep Learning based approaches like ViTs. Finally the performance of our Models will be evaluated with Confusion Matrix, Classsification Report or Precision Recall Curve.\n"
      ],
      "metadata": {
        "id": "ictHbv4iibN6"
      }
    },
    {
      "cell_type": "markdown",
      "source": [
        "Mount the Google Drive in a Google Colab environment\n",
        "\n"
      ],
      "metadata": {
        "id": "JGYN18Uy9i9G"
      }
    },
    {
      "cell_type": "code",
      "source": [
        "from google.colab import drive\n",
        "drive.mount('/content/drive')"
      ],
      "metadata": {
        "id": "oAM9laqCqQlM",
        "colab": {
          "base_uri": "https://localhost:8080/"
        },
        "outputId": "f7cb7e63-43da-4016-9f66-59edd4d8d3d6"
      },
      "execution_count": 1,
      "outputs": [
        {
          "output_type": "stream",
          "name": "stdout",
          "text": [
            "Drive already mounted at /content/drive; to attempt to forcibly remount, call drive.mount(\"/content/drive\", force_remount=True).\n"
          ]
        }
      ]
    },
    {
      "cell_type": "code",
      "source": [
        "%%capture\n",
        "!pip install torch==2.5.0 torchvision ftfy regex tqdm git+https://github.com/openai/CLIP.git"
      ],
      "metadata": {
        "id": "M0vHM9hgFkbl"
      },
      "execution_count": 2,
      "outputs": []
    },
    {
      "cell_type": "markdown",
      "source": [
        "#Read the Stratified csv files for training and testing datasets"
      ],
      "metadata": {
        "id": "NcOXFYBChYSS"
      }
    },
    {
      "cell_type": "code",
      "source": [
        "'''import pandas as pd\n",
        "import numpy as np\n",
        "import torch\n",
        "\n",
        "def string_to_float_array(s):\n",
        "    s = s.replace('[', '').replace(']', '')\n",
        "    return np.array([float(x) for x in s.split(',')])\n",
        "\n",
        "\n",
        "df = pd.read_csv('drive/MyDrive/colab_notebooks/embeddings.csv')\n",
        "df['embeddings'] = df['embeddings'].apply(string_to_float_array)\n",
        "df.head()'''"
      ],
      "metadata": {
        "colab": {
          "base_uri": "https://localhost:8080/",
          "height": 206
        },
        "id": "s2Mm12OfgPG4",
        "outputId": "2e03b5ff-17ad-4f8b-d579-19a57d7240b5"
      },
      "execution_count": null,
      "outputs": [
        {
          "output_type": "execute_result",
          "data": {
            "text/plain": [
              "                                          embeddings  \\\n",
              "0  [0.12522172927856445, 0.17127607762813568, -0....   \n",
              "1  [0.00956397969275713, -0.024535341188311577, -...   \n",
              "2  [-0.014325050637125969, 0.026381907984614372, ...   \n",
              "3  [-0.09597162157297134, 0.10650302469730377, -0...   \n",
              "4  [0.368219792842865, 0.17371228337287903, -0.01...   \n",
              "\n",
              "                         image_name  label  \n",
              "0  354503ce71788b2f7725480f7a96123c      0  \n",
              "1  d59817583d8f5081d293afe840ea3da4      1  \n",
              "2  3d1de42b3f41903ee6f768eb26de95c7      1  \n",
              "3  00becac4c25ad5a0c839e1629bedb899      1  \n",
              "4  0a5bae79ca67e303fe64e0db70565ed1      1  "
            ],
            "text/html": [
              "\n",
              "  <div id=\"df-41ebe3c7-0a4c-4bc8-ba76-69fe89b0b104\" class=\"colab-df-container\">\n",
              "    <div>\n",
              "<style scoped>\n",
              "    .dataframe tbody tr th:only-of-type {\n",
              "        vertical-align: middle;\n",
              "    }\n",
              "\n",
              "    .dataframe tbody tr th {\n",
              "        vertical-align: top;\n",
              "    }\n",
              "\n",
              "    .dataframe thead th {\n",
              "        text-align: right;\n",
              "    }\n",
              "</style>\n",
              "<table border=\"1\" class=\"dataframe\">\n",
              "  <thead>\n",
              "    <tr style=\"text-align: right;\">\n",
              "      <th></th>\n",
              "      <th>embeddings</th>\n",
              "      <th>image_name</th>\n",
              "      <th>label</th>\n",
              "    </tr>\n",
              "  </thead>\n",
              "  <tbody>\n",
              "    <tr>\n",
              "      <th>0</th>\n",
              "      <td>[0.12522172927856445, 0.17127607762813568, -0....</td>\n",
              "      <td>354503ce71788b2f7725480f7a96123c</td>\n",
              "      <td>0</td>\n",
              "    </tr>\n",
              "    <tr>\n",
              "      <th>1</th>\n",
              "      <td>[0.00956397969275713, -0.024535341188311577, -...</td>\n",
              "      <td>d59817583d8f5081d293afe840ea3da4</td>\n",
              "      <td>1</td>\n",
              "    </tr>\n",
              "    <tr>\n",
              "      <th>2</th>\n",
              "      <td>[-0.014325050637125969, 0.026381907984614372, ...</td>\n",
              "      <td>3d1de42b3f41903ee6f768eb26de95c7</td>\n",
              "      <td>1</td>\n",
              "    </tr>\n",
              "    <tr>\n",
              "      <th>3</th>\n",
              "      <td>[-0.09597162157297134, 0.10650302469730377, -0...</td>\n",
              "      <td>00becac4c25ad5a0c839e1629bedb899</td>\n",
              "      <td>1</td>\n",
              "    </tr>\n",
              "    <tr>\n",
              "      <th>4</th>\n",
              "      <td>[0.368219792842865, 0.17371228337287903, -0.01...</td>\n",
              "      <td>0a5bae79ca67e303fe64e0db70565ed1</td>\n",
              "      <td>1</td>\n",
              "    </tr>\n",
              "  </tbody>\n",
              "</table>\n",
              "</div>\n",
              "    <div class=\"colab-df-buttons\">\n",
              "\n",
              "  <div class=\"colab-df-container\">\n",
              "    <button class=\"colab-df-convert\" onclick=\"convertToInteractive('df-41ebe3c7-0a4c-4bc8-ba76-69fe89b0b104')\"\n",
              "            title=\"Convert this dataframe to an interactive table.\"\n",
              "            style=\"display:none;\">\n",
              "\n",
              "  <svg xmlns=\"http://www.w3.org/2000/svg\" height=\"24px\" viewBox=\"0 -960 960 960\">\n",
              "    <path d=\"M120-120v-720h720v720H120Zm60-500h600v-160H180v160Zm220 220h160v-160H400v160Zm0 220h160v-160H400v160ZM180-400h160v-160H180v160Zm440 0h160v-160H620v160ZM180-180h160v-160H180v160Zm440 0h160v-160H620v160Z\"/>\n",
              "  </svg>\n",
              "    </button>\n",
              "\n",
              "  <style>\n",
              "    .colab-df-container {\n",
              "      display:flex;\n",
              "      gap: 12px;\n",
              "    }\n",
              "\n",
              "    .colab-df-convert {\n",
              "      background-color: #E8F0FE;\n",
              "      border: none;\n",
              "      border-radius: 50%;\n",
              "      cursor: pointer;\n",
              "      display: none;\n",
              "      fill: #1967D2;\n",
              "      height: 32px;\n",
              "      padding: 0 0 0 0;\n",
              "      width: 32px;\n",
              "    }\n",
              "\n",
              "    .colab-df-convert:hover {\n",
              "      background-color: #E2EBFA;\n",
              "      box-shadow: 0px 1px 2px rgba(60, 64, 67, 0.3), 0px 1px 3px 1px rgba(60, 64, 67, 0.15);\n",
              "      fill: #174EA6;\n",
              "    }\n",
              "\n",
              "    .colab-df-buttons div {\n",
              "      margin-bottom: 4px;\n",
              "    }\n",
              "\n",
              "    [theme=dark] .colab-df-convert {\n",
              "      background-color: #3B4455;\n",
              "      fill: #D2E3FC;\n",
              "    }\n",
              "\n",
              "    [theme=dark] .colab-df-convert:hover {\n",
              "      background-color: #434B5C;\n",
              "      box-shadow: 0px 1px 3px 1px rgba(0, 0, 0, 0.15);\n",
              "      filter: drop-shadow(0px 1px 2px rgba(0, 0, 0, 0.3));\n",
              "      fill: #FFFFFF;\n",
              "    }\n",
              "  </style>\n",
              "\n",
              "    <script>\n",
              "      const buttonEl =\n",
              "        document.querySelector('#df-41ebe3c7-0a4c-4bc8-ba76-69fe89b0b104 button.colab-df-convert');\n",
              "      buttonEl.style.display =\n",
              "        google.colab.kernel.accessAllowed ? 'block' : 'none';\n",
              "\n",
              "      async function convertToInteractive(key) {\n",
              "        const element = document.querySelector('#df-41ebe3c7-0a4c-4bc8-ba76-69fe89b0b104');\n",
              "        const dataTable =\n",
              "          await google.colab.kernel.invokeFunction('convertToInteractive',\n",
              "                                                    [key], {});\n",
              "        if (!dataTable) return;\n",
              "\n",
              "        const docLinkHtml = 'Like what you see? Visit the ' +\n",
              "          '<a target=\"_blank\" href=https://colab.research.google.com/notebooks/data_table.ipynb>data table notebook</a>'\n",
              "          + ' to learn more about interactive tables.';\n",
              "        element.innerHTML = '';\n",
              "        dataTable['output_type'] = 'display_data';\n",
              "        await google.colab.output.renderOutput(dataTable, element);\n",
              "        const docLink = document.createElement('div');\n",
              "        docLink.innerHTML = docLinkHtml;\n",
              "        element.appendChild(docLink);\n",
              "      }\n",
              "    </script>\n",
              "  </div>\n",
              "\n",
              "\n",
              "<div id=\"df-da0a50e1-edd6-4dc0-affb-bd0830295b9b\">\n",
              "  <button class=\"colab-df-quickchart\" onclick=\"quickchart('df-da0a50e1-edd6-4dc0-affb-bd0830295b9b')\"\n",
              "            title=\"Suggest charts\"\n",
              "            style=\"display:none;\">\n",
              "\n",
              "<svg xmlns=\"http://www.w3.org/2000/svg\" height=\"24px\"viewBox=\"0 0 24 24\"\n",
              "     width=\"24px\">\n",
              "    <g>\n",
              "        <path d=\"M19 3H5c-1.1 0-2 .9-2 2v14c0 1.1.9 2 2 2h14c1.1 0 2-.9 2-2V5c0-1.1-.9-2-2-2zM9 17H7v-7h2v7zm4 0h-2V7h2v10zm4 0h-2v-4h2v4z\"/>\n",
              "    </g>\n",
              "</svg>\n",
              "  </button>\n",
              "\n",
              "<style>\n",
              "  .colab-df-quickchart {\n",
              "      --bg-color: #E8F0FE;\n",
              "      --fill-color: #1967D2;\n",
              "      --hover-bg-color: #E2EBFA;\n",
              "      --hover-fill-color: #174EA6;\n",
              "      --disabled-fill-color: #AAA;\n",
              "      --disabled-bg-color: #DDD;\n",
              "  }\n",
              "\n",
              "  [theme=dark] .colab-df-quickchart {\n",
              "      --bg-color: #3B4455;\n",
              "      --fill-color: #D2E3FC;\n",
              "      --hover-bg-color: #434B5C;\n",
              "      --hover-fill-color: #FFFFFF;\n",
              "      --disabled-bg-color: #3B4455;\n",
              "      --disabled-fill-color: #666;\n",
              "  }\n",
              "\n",
              "  .colab-df-quickchart {\n",
              "    background-color: var(--bg-color);\n",
              "    border: none;\n",
              "    border-radius: 50%;\n",
              "    cursor: pointer;\n",
              "    display: none;\n",
              "    fill: var(--fill-color);\n",
              "    height: 32px;\n",
              "    padding: 0;\n",
              "    width: 32px;\n",
              "  }\n",
              "\n",
              "  .colab-df-quickchart:hover {\n",
              "    background-color: var(--hover-bg-color);\n",
              "    box-shadow: 0 1px 2px rgba(60, 64, 67, 0.3), 0 1px 3px 1px rgba(60, 64, 67, 0.15);\n",
              "    fill: var(--button-hover-fill-color);\n",
              "  }\n",
              "\n",
              "  .colab-df-quickchart-complete:disabled,\n",
              "  .colab-df-quickchart-complete:disabled:hover {\n",
              "    background-color: var(--disabled-bg-color);\n",
              "    fill: var(--disabled-fill-color);\n",
              "    box-shadow: none;\n",
              "  }\n",
              "\n",
              "  .colab-df-spinner {\n",
              "    border: 2px solid var(--fill-color);\n",
              "    border-color: transparent;\n",
              "    border-bottom-color: var(--fill-color);\n",
              "    animation:\n",
              "      spin 1s steps(1) infinite;\n",
              "  }\n",
              "\n",
              "  @keyframes spin {\n",
              "    0% {\n",
              "      border-color: transparent;\n",
              "      border-bottom-color: var(--fill-color);\n",
              "      border-left-color: var(--fill-color);\n",
              "    }\n",
              "    20% {\n",
              "      border-color: transparent;\n",
              "      border-left-color: var(--fill-color);\n",
              "      border-top-color: var(--fill-color);\n",
              "    }\n",
              "    30% {\n",
              "      border-color: transparent;\n",
              "      border-left-color: var(--fill-color);\n",
              "      border-top-color: var(--fill-color);\n",
              "      border-right-color: var(--fill-color);\n",
              "    }\n",
              "    40% {\n",
              "      border-color: transparent;\n",
              "      border-right-color: var(--fill-color);\n",
              "      border-top-color: var(--fill-color);\n",
              "    }\n",
              "    60% {\n",
              "      border-color: transparent;\n",
              "      border-right-color: var(--fill-color);\n",
              "    }\n",
              "    80% {\n",
              "      border-color: transparent;\n",
              "      border-right-color: var(--fill-color);\n",
              "      border-bottom-color: var(--fill-color);\n",
              "    }\n",
              "    90% {\n",
              "      border-color: transparent;\n",
              "      border-bottom-color: var(--fill-color);\n",
              "    }\n",
              "  }\n",
              "</style>\n",
              "\n",
              "  <script>\n",
              "    async function quickchart(key) {\n",
              "      const quickchartButtonEl =\n",
              "        document.querySelector('#' + key + ' button');\n",
              "      quickchartButtonEl.disabled = true;  // To prevent multiple clicks.\n",
              "      quickchartButtonEl.classList.add('colab-df-spinner');\n",
              "      try {\n",
              "        const charts = await google.colab.kernel.invokeFunction(\n",
              "            'suggestCharts', [key], {});\n",
              "      } catch (error) {\n",
              "        console.error('Error during call to suggestCharts:', error);\n",
              "      }\n",
              "      quickchartButtonEl.classList.remove('colab-df-spinner');\n",
              "      quickchartButtonEl.classList.add('colab-df-quickchart-complete');\n",
              "    }\n",
              "    (() => {\n",
              "      let quickchartButtonEl =\n",
              "        document.querySelector('#df-da0a50e1-edd6-4dc0-affb-bd0830295b9b button');\n",
              "      quickchartButtonEl.style.display =\n",
              "        google.colab.kernel.accessAllowed ? 'block' : 'none';\n",
              "    })();\n",
              "  </script>\n",
              "</div>\n",
              "\n",
              "    </div>\n",
              "  </div>\n"
            ],
            "application/vnd.google.colaboratory.intrinsic+json": {
              "type": "dataframe",
              "variable_name": "df",
              "summary": "{\n  \"name\": \"df\",\n  \"rows\": 3088,\n  \"fields\": [\n    {\n      \"column\": \"embeddings\",\n      \"properties\": {\n        \"dtype\": \"object\",\n        \"semantic_type\": \"\",\n        \"description\": \"\"\n      }\n    },\n    {\n      \"column\": \"image_name\",\n      \"properties\": {\n        \"dtype\": \"string\",\n        \"num_unique_values\": 3077,\n        \"samples\": [\n          \"00e8be069bc851de9314674e36fe8fc1\",\n          \"8288e6d83dc649405fc20c2a1ea93bed\",\n          \"71fd4ccda5f3f6dde659bc6c38933501\"\n        ],\n        \"semantic_type\": \"\",\n        \"description\": \"\"\n      }\n    },\n    {\n      \"column\": \"label\",\n      \"properties\": {\n        \"dtype\": \"number\",\n        \"std\": 0,\n        \"min\": 0,\n        \"max\": 1,\n        \"num_unique_values\": 2,\n        \"samples\": [\n          1,\n          0\n        ],\n        \"semantic_type\": \"\",\n        \"description\": \"\"\n      }\n    }\n  ]\n}"
            }
          },
          "metadata": {},
          "execution_count": 3
        }
      ]
    },
    {
      "cell_type": "markdown",
      "source": [
        "# Train three Supervised models and generate Classification Matrix and ROC curve."
      ],
      "metadata": {
        "id": "VTbfVf6Cr5K0"
      }
    },
    {
      "cell_type": "code",
      "source": [
        "#Define a function to convert the np.float64 to a python list\n",
        "\n",
        "import re\n",
        "import ast\n",
        "\n",
        "def fix_embedding_str(s):\n",
        "    # Use a regex to replace np.float64(...) with the inner content.\n",
        "    cleaned = re.sub(r'np\\.float64\\((.*?)\\)', r'\\1', s)\n",
        "    return cleaned\n"
      ],
      "metadata": {
        "id": "nlbeSQiXn3FF"
      },
      "execution_count": 11,
      "outputs": []
    },
    {
      "cell_type": "code",
      "source": [
        "import pandas as pd\n",
        "import ast\n",
        "\n",
        "\n",
        "!cp \"/content/drive/MyDrive/colab_notebooks/train_embeddings.csv\" .\n",
        "!cp \"/content/drive/MyDrive/colab_notebooks/test_embeddings.csv\" .\n",
        "\n",
        "# Read training data\n",
        "df_train = pd.read_csv(\"train_embeddings.csv\")\n",
        "df_train['embeddings'] = df_train['embeddings'].apply(lambda s: ast.literal_eval(fix_embedding_str(s)))\n",
        "\n",
        "# Optional check\n",
        "print(\"First embedding:\", df_train['embeddings'].iloc[0])\n",
        "print(\"Type:\", type(df_train['embeddings'].iloc[0]))\n",
        "\n",
        "# Read test data\n",
        "df_test = pd.read_csv(\"test_embeddings.csv\")\n",
        "df_test['embeddings'] = df_test['embeddings'].apply(lambda s: ast.literal_eval(fix_embedding_str(s)))"
      ],
      "metadata": {
        "colab": {
          "base_uri": "https://localhost:8080/"
        },
        "id": "hKyg4gGJmvSS",
        "outputId": "21e35e6e-cf9f-492d-fc2c-fb821964a83a"
      },
      "execution_count": 14,
      "outputs": [
        {
          "output_type": "stream",
          "name": "stdout",
          "text": [
            "First embedding: [-0.005435055139993604, 0.017065188315811098, -0.033547335827511834, -0.02250211218599511, 0.024204542727412987, -0.003985682251590868, -0.024780814190212393, 0.003936897387787919, -0.03319049052798173, -0.03106289107689346, 0.004767683645779979, 0.0063745191020823854, 0.050387228704836806, -0.019659751705483425, 0.04211579618700246, 0.012967014009674352, -0.02279853244534664, 0.0035388020742403497, 0.024548607691465815, -0.012610213185772013, 0.018129434305281304, -0.010601531009793533, -0.03364220912595634, 0.04161748220761217, 0.036579970581852146, 0.048977459855312065, -0.005496239658053114, -0.00785242536717016, -0.03716162736473234, -0.00180725356547077, -0.04169824994763679, -0.044922313834479255, 0.02337360382002054, 0.021180231699882878, 0.04315880544112609, 0.04687334052038789, -0.002425744460208117, 0.02581769183829779, -0.01994258051451908, 0.1569474768088977, 0.02360155121204029, -0.011636772859366148, -0.01934057650884765, 0.011979079151561687, 0.026628275984657, -0.030819164636731067, -0.049664516337757716, 0.006502547096466588, 0.01933778735930973, 0.050093053333951205, 0.022237978217105523, 0.009371650998101748, -0.03507361273000497, 0.011234618202504603, -0.024282320800662633, -0.008001840861740828, -0.008522374563233764, -0.003460481624479208, 0.0225333989055686, -0.00736770208427154, 0.0008475591291136373, -0.05495476712580862, 0.00808040065068529, 0.04623184215725949, 0.007411567868261054, 0.056976089425963286, 0.060807331567782126, -0.02701614567293919, -0.07333687877979644, 0.0018686736535926042, 0.014887584690277286, -0.011099971631649332, -0.020942567513932368, -0.023685584518496876, -0.009066348428208236, 0.01162628791857616, -0.026268098782165378, -0.038939548876778765, -0.014335655718526142, 0.05978129843462985, 0.02213912472688798, 0.003949428584367282, -0.019228467773907184, 0.040480784666685546, 0.029483695715599757, -0.006978985851413382, -0.003022321685467792, -0.01585186152971478, -0.02151740520310444, 0.01066581713752163, 0.02563011022450956, 0.000801709656743301, -0.5572521284731486, 0.0908135932949165, 0.014015306063787644, 0.000425885513799987, -0.03728828490672196, 0.0311268485372706, 0.00883259734367701, -0.09509200998243575, 0.017050230936045845, -0.020462598600259604, 0.026886297946937542, -0.02419605466692731, 0.09391624324090064, 0.017860184885374327, -0.05894664618923097, 0.04154720468514693, 0.01894037274901425, 0.017284846656933826, -0.020772840980132035, -0.044737002739179736, 0.0028312557077737103, -0.02809302274069518, -0.01561454410289601, 0.060607803348081205, -0.029286965691327146, 0.021594623938798102, 0.011507011069323237, -0.01839242698433294, -0.027251269471337592, 0.06614504614272647, 0.023871277048841313, -0.036655711822114904, -0.06709619136460974, 0.017727163559493046, -0.0018401159660771332, 0.018620377391649488, 0.0038963363690887416, 0.03446185122389601, -0.006626227032868431, 0.027719735027726927, 0.019332370378612563, 0.08395208642204038, 0.03945355144540777, 0.035490965990375586, -0.025281653480670803, 0.007283740391113902, 0.008101439130267413, -0.01855340312682619, -0.02350548687136067, -0.006259304234528135, -0.003127866684647698, 0.013080787188447176, -0.0060564870798450595, -0.014424943179652813, 0.025107290928043927, 0.0042555268157033, 0.007133062994833375, -0.05096657878566672, -0.026956442796343676, -0.052231073650772515, 0.08799776441092826, 0.05334669728237963, 0.030870126167909892, -0.0001162030486301923, 0.005680556082321475, -0.00788035530758355, -0.03910500725796188, 0.01735423617449212, -0.014489962024502765, 0.002872297289400029, 0.016152846948418106, -0.00321672088531574, 0.02928261160275119, -0.018021741472501147, 0.11570603226493333, 0.038075075346050105, -0.0052940869994018425, 0.01215747315600716, 0.0014239241603417982, 0.009548648920129861, 0.02027577382596761, 0.00959636222283331, 0.006474346533165602, -0.004966782939511425, -0.11910516428385334, 0.009185287564219812, 0.03098690258229328, -0.016493628254258184, 0.05605865522227889, -0.010439188937850898, 0.04608440620503655, -0.0290145879009925, -0.010985627054133333, 0.0052987411100091746, -0.02730956118903176, 0.027918201862955044, 0.012389231129355072, -0.015707917291183635, -0.0031808686294783547, 0.002505838092942387, 0.01209218519591801, 0.014234858869522448, 0.05377111839844419, -0.018764589991595634, 0.05343333278997268, 0.009093985884832243, -0.04441271661447177, 0.008738204985071744, 0.025466726367523302, 0.016007410137972074, 0.04236407271003267, 0.000577745848705482, 0.021617891476537966, -0.014568530105513422, 0.005227473816370078, -0.02187808294486449, 0.02647613013883597, 0.02671705838357005, -0.03801794753291987, -0.02083365499359752, -0.015499747230860348, 0.026771671439170953, 0.01763302750111559, 0.05759604047817494, -0.03366811957133944, -0.0585815661141462, -0.046743646574522936, -0.06281148476797038, 0.014934326313587657, 0.083448525826222, -0.007038940505291509, -0.004624926303450851, -0.04388065844861782, -0.04188887098059715, 0.003164589418979385, -0.02978633803989345, 0.018672855617117585, 0.014633349940774722, -0.008822697370465786, -0.019108632340922478, 0.014082161224387428, 0.05095405927336245, -0.009781190116820989, 0.039815893631000174, -0.0016709131516393606, 0.014173313646583507, 0.010990149245505763, -0.030510826416786416, 0.02708029611231139, 0.03509776827265177, -0.01612845922791788, -0.03693375837042933, -0.033185207727992064, 0.04665747542263674, -0.002065452676438179, 0.03597591918965504, 0.02098552041681636, -0.052706441221531904, -0.021847029910792827, 0.024466516236146985, 0.03817597320749652, -0.021910349635897247, 0.0016096183867906828, 0.01068042021991315, -0.033883351456763064, -0.008386050733534742, 0.09683939256851454, -0.018984402112855046, 0.005081692508264903, 0.012215044971590863, -0.026343113335899882, 0.1419285005606583, 0.07216645514418696, -0.02048265183161306, 0.020909453524499442, -0.019390699787516702, 0.05334625704904716, -0.0044463502504612125, 0.015316507644460886, 0.00048451155252660327, -0.0005664124316650144, 0.022517873142356967, 0.001760967251976859, -0.021503361458268904, -0.016589672995508616, 0.028014911477149386, 0.009129706598346827, -0.03245327156800865, 0.010897585664408335, 0.002152908156304164, 0.023424607565354534, 0.03180949062520435, -0.04038139746893481, 0.04601572980517092, -0.034139078778180516, -0.01037857845691926, -0.05287395301983429, -0.017562442418376983, 0.0015517544643296986, 0.030081972814429165, 0.029988025212101567, 0.04318164932966587, -0.048596073055145045, -0.07633140018261315, 0.021350769348521804, -0.012719735549884205, 0.05561920586697433, -0.009167015619449626, -0.020309376293481774, 0.01777939905356892, -0.011749427363027006, 0.05698572028393531, 0.021374760557493128, -0.05921100932067719, 0.03154143073988409, 0.020128649956963236, 0.020217709763181674, 0.024103825783774433, -0.03583999865590272, 0.046536818321274646, 0.08377399093197789, -0.04723602343451845, 0.011692447299439863, 0.03190076968986594, 0.04699189294458516, -0.02778228735979632, 0.02503547409656344, -0.038862203498619595, 0.021291211206172583, 0.06623956966674244, -0.017014682094448733, -0.025175035601199047, -0.041122270968626765, -0.02245371968768797, 0.03449220621675899, 0.009912793499383128, -0.044141602233495385, -0.015069366380675036, -0.061604244358460326, 0.02920309219560084, 0.01975591404330897, -0.011396712266285624, -0.015855306506306212, 0.001313402131113126, 0.047241176576745814, 0.033276278737174605, 0.025048004162406504, -0.016743030990642345, -0.009702478809212439, -0.016501638390201415, -0.001186024781241063, 0.022126585615154525, 0.026360065334496852, -0.009926382688226402, 0.013069609483217906, 0.006484765891250238, -0.004569427504415605, -0.006396926526410689, -0.029546239001778753, -0.003532402483699218, -0.002577120086153373, -0.012224767042291019, 0.009438220459329945, -0.05132665949866082, 0.021117195412677446, -0.04544546782888944, 0.023251273228935693, -0.0203226285229079, -0.01137229213134482, 0.026852840213669675, 0.01184014558248421, -0.08212005239366148, -0.1351194658826567, 0.03069908044176054, 0.027351534120456485, -0.053282332756934794, 0.023066385782836256, 0.007954186357324936, 0.024877627832146254, 0.00682199442363836, -0.01120548817396571, -0.0768226643980903, 0.016853133045563906, 0.04936156042259706, 0.027204674089921912, -0.012316110182009557, 0.05527105969870574, 0.03363981498029893, 0.026333322667197578, -0.05432329763982954, 0.02724865520901394, -0.046524585262166164, -0.0018392128846862062, 0.0068237915405298215, 0.019554679165620516, -0.009226858707346236, 0.03737186893395568, 0.18883520534011333, 0.0408429338732829, -0.049682587011466654, -0.03672009443934053, 0.02637260293858191, -0.04192139698715451, -0.01739577490317797, 0.025898287706404934, -0.006893144120702345, -0.017239410657136883, -0.029926853885965547, 0.01648036094834807, -0.03590117902792913, 0.08110366217966843, -0.010651990494055534, 0.010024189870455124, 0.0372023429173924, -0.04882161424032019, 0.015125458439355241, -0.006985167209848776, 0.04117392903336587, -0.13002566469627622, -0.06765058986443824, 0.07066718323981451, 0.06960844619759379, -0.05188257167748179, 0.0045579531693638545, 0.03844848668618706, -0.0007253161229779612, -0.025696923170954178, -0.05984732740390705, 0.015151389991815919, 0.023783274104150483, 0.030483528934876356, 0.03241741064319297, 0.02661994471960481, 0.030703054602939983, -0.05209258106885171, 0.044213999509609435, -0.03674264584409093, 0.0015805295358986826, -0.0015214701424854143, -0.008080558953767173, 0.05748700131537459, -0.010658207282228301, -0.009787391828509769, -0.030401211332297694, -0.024764008433510114, -0.006024458974171424, -0.04656766480751566, 0.004809128900265097, -0.01305349875242751, 0.022456049004464233, -0.007376195421526612, 0.021817480002174847, -0.026691319810104426, 0.015642811002726548, 0.03588942841630829, -0.008148449868816986, -0.049948020573276075, -0.015170607985956399, -0.07400890400770531, 0.017528117787279758, 0.00889720460051407, 0.03366303276564163, -0.0632665352689065, 0.02764753374590473, 0.048681840157260334, -0.024450948258780185, 0.029956774676089655, -0.0562155290534788, -0.024963586405608203, 0.04989302155968506, -0.004809906469926818, 0.005365359946722436, 0.020925968305060733, 0.046228335367083706, -0.00440987684348349, -0.019284042709186575, -0.051564500079473996, -0.026913544168802043, -0.007396308204991825, -0.002496107918632087, 0.04728714477642756, 0.008722943814154116, 0.025019060328444868, -0.1060333340345439, -0.03694540344666225, -0.01056028024195187, -0.03956667332007228, -0.038379056462122, 0.001669147883820326, -0.09802339107030751, 0.033271523614124554, 0.015047344160512646, 0.004180622697214013, 0.040709232597973724, 0.014707373969511165, -0.019314367549081578, -0.018807661998703137, 0.004141058234106493, -0.029835285352811377, -0.030530341417661474, 0.048038598952582834, -0.008990846904040894, -0.0002918086926974535, 0.0697485670397854, -0.016662447183722392, -0.03511935779772368, 0.0020427791521674737, 0.0057699841316613395, 0.05889143610486411, -0.03656456241521563, -0.008932369745593667, -0.02967163313441012, -0.06742418931967574, -0.04492760869565611, -0.015283939423748352, 0.023946039825293204, 0.031146167543853808, 0.008556847697698277, 0.03970711076842763, 0.009112003790847216]\n",
            "Type: <class 'list'>\n"
          ]
        }
      ]
    },
    {
      "cell_type": "code",
      "source": [
        "import numpy as np\n",
        "import pandas as pd\n",
        "import matplotlib.pyplot as plt\n",
        "import seaborn as sns\n",
        "from sklearn.model_selection import train_test_split\n",
        "from sklearn.preprocessing import StandardScaler\n",
        "from sklearn.linear_model import LogisticRegression\n",
        "from sklearn.svm import SVC\n",
        "from sklearn.ensemble import RandomForestClassifier\n",
        "from sklearn.metrics import (\n",
        "    confusion_matrix, classification_report, precision_recall_curve, roc_auc_score\n",
        ")\n",
        "\n",
        "# Convert list of embeddings to a NumPy matrix\n",
        "X_train = np.vstack(df_train['embeddings'].values)\n",
        "y_train = df_train['label'].values  # or 'is_ai_generated' if that’s your column\n",
        "\n",
        "X_test = np.vstack(df_test['embeddings'].values)\n",
        "y_test = df_test['label'].values\n",
        "\n",
        "\n",
        "# Lets create a dictionary to Define and store our models\n",
        "models = {\n",
        "    \"Logistic Regression\": LogisticRegression(max_iter=1000),\n",
        "    \"Support Vector Machine (SVM)\": SVC(probability=True),\n",
        "    \"Random Forest\": RandomForestClassifier(n_estimators=100, random_state=42),\n",
        "\n",
        "}\n",
        "\n",
        "# Train and evaluate models\n",
        "# Create a dictionary to store our results\n",
        "results = {}\n",
        "for name, model in models.items():\n",
        "    print(f\"\\nTraining {name}...\")\n",
        "    model.fit(X_train, y_train) # Here training the model on the training data\n",
        "    y_pred = model.predict(X_test) # Prediuct the labels on test data\n",
        "    y_prob = model.predict_proba(X_test)[:, 1] #Get the probablity score on the GenAI(1) class\n",
        "\n",
        "    # Compute evaluation metrics\n",
        "    cm = confusion_matrix(y_test, y_pred) #compute the confusion Matrix using y_test, y_pred\n",
        "    report = classification_report(y_test, y_pred, digits=4)\n",
        "    auc_score = roc_auc_score(y_test, y_prob)\n",
        "\n",
        "    # Store results\n",
        "    results[name] = {\n",
        "        \"model\": model,\n",
        "        \"confusion_matrix\": cm,\n",
        "        \"classification_report\": report,\n",
        "        \"roc_auc\": auc_score\n",
        "    }\n",
        "\n",
        "    print(f\"\\n{name} - Classification Report:\\n{report}\")\n",
        "    print(f\"{name} - ROC AUC Score: {auc_score:.4f}\") #(Receiver Operating Characteristic Area Under the Curve) )\n"
      ],
      "metadata": {
        "colab": {
          "base_uri": "https://localhost:8080/"
        },
        "id": "NQskALWPkjLq",
        "outputId": "9244a0f8-6265-4acd-cc0d-1b1ae3ae3c85"
      },
      "execution_count": 15,
      "outputs": [
        {
          "output_type": "stream",
          "name": "stdout",
          "text": [
            "\n",
            "Training Logistic Regression...\n",
            "\n",
            "Logistic Regression - Classification Report:\n",
            "              precision    recall  f1-score   support\n",
            "\n",
            "           0     0.8880    0.9312    0.9091       349\n",
            "           1     0.9048    0.8476    0.8752       269\n",
            "\n",
            "    accuracy                         0.8948       618\n",
            "   macro avg     0.8964    0.8894    0.8922       618\n",
            "weighted avg     0.8953    0.8948    0.8944       618\n",
            "\n",
            "Logistic Regression - ROC AUC Score: 0.9550\n",
            "\n",
            "Training Support Vector Machine (SVM)...\n",
            "\n",
            "Support Vector Machine (SVM) - Classification Report:\n",
            "              precision    recall  f1-score   support\n",
            "\n",
            "           0     0.9174    0.9542    0.9354       349\n",
            "           1     0.9373    0.8885    0.9122       269\n",
            "\n",
            "    accuracy                         0.9256       618\n",
            "   macro avg     0.9273    0.9213    0.9238       618\n",
            "weighted avg     0.9260    0.9256    0.9253       618\n",
            "\n",
            "Support Vector Machine (SVM) - ROC AUC Score: 0.9685\n",
            "\n",
            "Training Random Forest...\n",
            "\n",
            "Random Forest - Classification Report:\n",
            "              precision    recall  f1-score   support\n",
            "\n",
            "           0     0.8767    0.9370    0.9058       349\n",
            "           1     0.9102    0.8290    0.8677       269\n",
            "\n",
            "    accuracy                         0.8900       618\n",
            "   macro avg     0.8934    0.8830    0.8868       618\n",
            "weighted avg     0.8913    0.8900    0.8892       618\n",
            "\n",
            "Random Forest - ROC AUC Score: 0.9467\n"
          ]
        }
      ]
    },
    {
      "cell_type": "markdown",
      "source": [
        "Summary from the Precision Recall and f1 score for three Models:\n",
        "1. Overall the Logictic Regression and SVM seem to perform with a high ROC AUC curve values of 0.9550 and 0.9685 respectively."
      ],
      "metadata": {
        "id": "IKm3aigEg8sB"
      }
    },
    {
      "cell_type": "code",
      "source": [
        "\n",
        "# Plot Precision-Recall Curve for best models\n",
        "plt.figure(figsize=(8, 6))\n",
        "for name, result in results.items():\n",
        "    y_prob = result[\"model\"].predict_proba(X_test)[:, 1]\n",
        "    precision, recall, _ = precision_recall_curve(y_test, y_prob)\n",
        "    plt.plot(recall, precision, label=name)\n",
        "\n",
        "plt.xlabel(\"Recall\")\n",
        "plt.ylabel(\"Precision\")\n",
        "plt.title(\"Precision-Recall Curve\")\n",
        "plt.legend()\n",
        "plt.grid()\n",
        "plt.show()"
      ],
      "metadata": {
        "colab": {
          "base_uri": "https://localhost:8080/",
          "height": 564
        },
        "id": "GZ6kORKXgrGU",
        "outputId": "32a8ff0b-4980-49cc-d531-31ed147c5493"
      },
      "execution_count": 16,
      "outputs": [
        {
          "output_type": "display_data",
          "data": {
            "text/plain": [
              "<Figure size 800x600 with 1 Axes>"
            ],
            "image/png": "[encoded data removed]"
          },
          "metadata": {}
        }
      ]
    },
    {
      "cell_type": "code",
      "source": [
        "# Confusion Matrix Heatmap for the best model (Change key to desired model)\n",
        "best_model = \"Support Vector Machine (SVM)\"  # Change to the best-performing model\n",
        "sns.heatmap(results[best_model][\"confusion_matrix\"], annot=True, fmt=\"d\", cmap=\"Blues\")\n",
        "plt.xlabel(\"Predicted Label\")\n",
        "plt.ylabel(\"True Label\")\n",
        "plt.title(f\"Confusion Matrix - {best_model}\")\n",
        "plt.show()"
      ],
      "metadata": {
        "colab": {
          "base_uri": "https://localhost:8080/",
          "height": 472
        },
        "id": "v5PvPyMogkKU",
        "outputId": "f56ef683-70bb-4794-d172-b458a8fe7071"
      },
      "execution_count": 17,
      "outputs": [
        {
          "output_type": "display_data",
          "data": {
            "text/plain": [
              "<Figure size 640x480 with 2 Axes>"
            ],
            "image/png": "[encoded data removed]"
          },
          "metadata": {}
        }
      ]
    },
    {
      "cell_type": "markdown",
      "source": [
        "Summary from above Heatmap\n",
        "1. A high number of True Negatives (333) indicates that the model is very good at correctly identifying real images.\n",
        "2. A high number of True Positives (239) suggests that the model is fairly effective at identifying AI-generated images."
      ],
      "metadata": {
        "id": "0eXaaoWT-rrH"
      }
    }
  ]
}